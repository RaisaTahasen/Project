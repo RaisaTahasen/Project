{
  "nbformat": 4,
  "nbformat_minor": 0,
  "metadata": {
    "colab": {
      "provenance": [],
      "gpuType": "V28",
      "authorship_tag": "ABX9TyMfXXvIG0HDULkAhLQvwqlT"
    },
    "kernelspec": {
      "name": "python3",
      "display_name": "Python 3"
    },
    "language_info": {
      "name": "python"
    },
    "accelerator": "TPU"
  },
  "cells": [
    {
      "cell_type": "code",
      "execution_count": null,
      "metadata": {
        "id": "MFsM_flYOu_b"
      },
      "outputs": [],
      "source": [
        "from tensorflow import keras\n",
        "import tensorflow as tf\n",
        "from keras.models import Sequential"
      ]
    },
    {
      "cell_type": "code",
      "source": [
        "import tensorflow as tf\n",
        "print(tf.__version__)  # TensorFlow version\n"
      ],
      "metadata": {
        "colab": {
          "base_uri": "https://localhost:8080/"
        },
        "id": "Hae1c3krsE_l",
        "outputId": "5ed28407-9e87-4880-ea56-dc23def06569"
      },
      "execution_count": null,
      "outputs": [
        {
          "output_type": "stream",
          "name": "stdout",
          "text": [
            "2.15.0\n"
          ]
        }
      ]
    },
    {
      "cell_type": "code",
      "source": [
        "from google.colab import drive\n",
        "drive.mount('/content/drive')\n"
      ],
      "metadata": {
        "colab": {
          "base_uri": "https://localhost:8080/"
        },
        "id": "UmWQDUI9qxcO",
        "outputId": "750cb629-6cf7-48e5-9b39-d02cbe27ce20"
      },
      "execution_count": null,
      "outputs": [
        {
          "output_type": "stream",
          "name": "stdout",
          "text": [
            "Mounted at /content/drive\n"
          ]
        }
      ]
    },
    {
      "cell_type": "markdown",
      "source": [
        "ANSWER 1 A"
      ],
      "metadata": {
        "id": "3IxNGDPXu5l9"
      }
    },
    {
      "cell_type": "code",
      "source": [
        "import pandas as pd\n",
        "\n",
        "# Load the dataset\n",
        "file_path = '/content/drive/MyDrive/IMDB Dataset.csv'\n",
        "data = pd.read_csv(file_path)\n",
        "\n",
        "# Display the first few rows\n",
        "print(data.head())\n"
      ],
      "metadata": {
        "colab": {
          "base_uri": "https://localhost:8080/"
        },
        "id": "zxHC-IABmYti",
        "outputId": "4a5eaa91-0a44-4d98-b45e-0a82ef7b3435"
      },
      "execution_count": null,
      "outputs": [
        {
          "output_type": "stream",
          "name": "stdout",
          "text": [
            "                                              review sentiment\n",
            "0  One of the other reviewers has mentioned that ...  positive\n",
            "1  A wonderful little production. <br /><br />The...  positive\n",
            "2  I thought this was a wonderful way to spend ti...  positive\n",
            "3  Basically there's a family where a little boy ...  negative\n",
            "4  Petter Mattei's \"Love in the Time of Money\" is...  positive\n"
          ]
        }
      ]
    },
    {
      "cell_type": "markdown",
      "source": [
        "B"
      ],
      "metadata": {
        "id": "zte2SqW2qXnG"
      }
    },
    {
      "cell_type": "code",
      "source": [
        "from sklearn.feature_extraction.text import CountVectorizer\n",
        "\n",
        "# Initialize CountVectorizer\n",
        "vectorizer = CountVectorizer()\n",
        "\n",
        "# Convert reviews to bag-of-words representation\n",
        "X = vectorizer.fit_transform(data['review'])\n",
        "\n",
        "# Check the shape of the resulting matrix\n",
        "print(X.shape)\n"
      ],
      "metadata": {
        "colab": {
          "base_uri": "https://localhost:8080/"
        },
        "id": "UTHdSH4DqYgX",
        "outputId": "33d8040e-1438-496d-c6cd-2b57ed2b9917"
      },
      "execution_count": null,
      "outputs": [
        {
          "output_type": "stream",
          "name": "stdout",
          "text": [
            "(50000, 101895)\n"
          ]
        }
      ]
    },
    {
      "cell_type": "markdown",
      "source": [
        "C"
      ],
      "metadata": {
        "id": "qZ9DJnziqZpd"
      }
    },
    {
      "cell_type": "code",
      "source": [
        "from sklearn.model_selection import train_test_split\n",
        "\n",
        "# Define features (X) and target (y)\n",
        "y = data['sentiment']  # Assuming sentiment is the target column\n",
        "\n",
        "# Split data into training and testing\n",
        "X_train, X_test, y_train, y_test = train_test_split(X, y, test_size=0.2, random_state=42)\n"
      ],
      "metadata": {
        "id": "-Ay3aY7OqaXu"
      },
      "execution_count": null,
      "outputs": []
    },
    {
      "cell_type": "markdown",
      "source": [
        "D"
      ],
      "metadata": {
        "id": "yT7KPhG5qdeV"
      }
    },
    {
      "cell_type": "code",
      "source": [
        "from sklearn.linear_model import LogisticRegression\n",
        "\n",
        "# Train logistic regression\n",
        "logistic_model = LogisticRegression()\n",
        "logistic_model.fit(X_train, y_train)\n",
        "\n",
        "# Evaluate the model\n",
        "logistic_accuracy = logistic_model.score(X_test, y_test)\n",
        "print(f\"Logistic Regression Accuracy: {logistic_accuracy}\")\n"
      ],
      "metadata": {
        "colab": {
          "base_uri": "https://localhost:8080/"
        },
        "id": "HiCwcevVqcsd",
        "outputId": "297ab6cc-af81-4637-fb8d-b50ac949dd86",
        "collapsed": true
      },
      "execution_count": null,
      "outputs": [
        {
          "output_type": "stream",
          "name": "stderr",
          "text": [
            "/usr/local/lib/python3.10/dist-packages/sklearn/linear_model/_logistic.py:465: ConvergenceWarning: lbfgs failed to converge (status=1):\n",
            "STOP: TOTAL NO. of ITERATIONS REACHED LIMIT.\n",
            "\n",
            "Increase the number of iterations (max_iter) or scale the data as shown in:\n",
            "    https://scikit-learn.org/stable/modules/preprocessing.html\n",
            "Please also refer to the documentation for alternative solver options:\n",
            "    https://scikit-learn.org/stable/modules/linear_model.html#logistic-regression\n",
            "  n_iter_i = _check_optimize_result(\n"
          ]
        },
        {
          "output_type": "stream",
          "name": "stdout",
          "text": [
            "Logistic Regression Accuracy: 0.8926\n"
          ]
        }
      ]
    },
    {
      "cell_type": "code",
      "source": [
        "logistic_model = LogisticRegression(max_iter=200)  # Increase max_iter to 200 or more\n",
        "logistic_model.fit(X_train, y_train)\n",
        "logistic_accuracy = logistic_model.score(X_test, y_test)\n",
        "print(f\"Logistic Regression Accuracy: {logistic_accuracy}\")\n"
      ],
      "metadata": {
        "colab": {
          "base_uri": "https://localhost:8080/"
        },
        "id": "PS98V9kLuFgl",
        "outputId": "c1fb2d04-762b-48e8-df2c-e1f0345157fe",
        "collapsed": true
      },
      "execution_count": null,
      "outputs": [
        {
          "output_type": "stream",
          "name": "stdout",
          "text": [
            "Logistic Regression Accuracy: 0.8867\n"
          ]
        },
        {
          "output_type": "stream",
          "name": "stderr",
          "text": [
            "/usr/local/lib/python3.10/dist-packages/sklearn/linear_model/_logistic.py:465: ConvergenceWarning: lbfgs failed to converge (status=1):\n",
            "STOP: TOTAL NO. of ITERATIONS REACHED LIMIT.\n",
            "\n",
            "Increase the number of iterations (max_iter) or scale the data as shown in:\n",
            "    https://scikit-learn.org/stable/modules/preprocessing.html\n",
            "Please also refer to the documentation for alternative solver options:\n",
            "    https://scikit-learn.org/stable/modules/linear_model.html#logistic-regression\n",
            "  n_iter_i = _check_optimize_result(\n"
          ]
        }
      ]
    },
    {
      "cell_type": "code",
      "source": [
        "from sklearn.naive_bayes import MultinomialNB\n",
        "\n",
        "# Train Naive Bayes\n",
        "nb_model = MultinomialNB()\n",
        "nb_model.fit(X_train, y_train)\n",
        "\n",
        "# Evaluate the model\n",
        "nb_accuracy = nb_model.score(X_test, y_test)\n",
        "print(f\"Naive Bayes Accuracy: {nb_accuracy}\")\n"
      ],
      "metadata": {
        "colab": {
          "base_uri": "https://localhost:8080/"
        },
        "id": "OqzHR0Qoqlv2",
        "outputId": "468cce7f-120f-44ef-9a8c-4a5134f90caf"
      },
      "execution_count": null,
      "outputs": [
        {
          "output_type": "stream",
          "name": "stdout",
          "text": [
            "Naive Bayes Accuracy: 0.8487\n"
          ]
        }
      ]
    },
    {
      "cell_type": "markdown",
      "source": [
        "E"
      ],
      "metadata": {
        "id": "FxpcJ1vuqhK1"
      }
    },
    {
      "cell_type": "code",
      "source": [
        "import matplotlib.pyplot as plt\n",
        "\n",
        "# Accuracies\n",
        "models = ['Logistic Regression', 'Naive Bayes']\n",
        "accuracies = [logistic_accuracy, nb_accuracy]\n",
        "\n",
        "# Plot\n",
        "plt.bar(models, accuracies, color=['blue', 'green'])\n",
        "plt.title(\"Model Accuracy Comparison\")\n",
        "plt.ylabel(\"Accuracy\")\n",
        "plt.xlabel(\"Models\")\n",
        "plt.ylim(0, 1)\n",
        "plt.show()\n"
      ],
      "metadata": {
        "colab": {
          "base_uri": "https://localhost:8080/",
          "height": 472
        },
        "id": "fYPZhyZLqieW",
        "outputId": "2d491bd4-2ce5-4bc4-99bd-dcbaa6f0bbc2"
      },
      "execution_count": null,
      "outputs": [
        {
          "output_type": "display_data",
          "data": {
            "text/plain": [
              "<Figure size 640x480 with 1 Axes>"
            ],
            "image/png": "[encoded data removed]"
          },
          "metadata": {}
        }
      ]
    },
    {
      "cell_type": "markdown",
      "source": [
        "ANSWER 2 A"
      ],
      "metadata": {
        "id": "oUXbdKbBu_4M"
      }
    },
    {
      "cell_type": "code",
      "source": [
        "from sklearn.feature_extraction.text import TfidfVectorizer\n",
        "\n",
        "# Initialize the TF-IDF Vectorizer\n",
        "tfidf_vectorizer = TfidfVectorizer()\n",
        "\n",
        "# Transform the reviews to TF-IDF representation\n",
        "X_tfidf = tfidf_vectorizer.fit_transform(data['review'])\n",
        "\n",
        "# Check the shape of the resulting matrix\n",
        "print(X_tfidf.shape)\n"
      ],
      "metadata": {
        "colab": {
          "base_uri": "https://localhost:8080/"
        },
        "id": "h0q8VTFfvcsE",
        "outputId": "97e7403e-041e-42ce-e0de-47d71a4a91d5"
      },
      "execution_count": null,
      "outputs": [
        {
          "output_type": "stream",
          "name": "stdout",
          "text": [
            "(50000, 101895)\n"
          ]
        }
      ]
    },
    {
      "cell_type": "markdown",
      "source": [
        "B"
      ],
      "metadata": {
        "id": "k6PZrfJBvnYN"
      }
    },
    {
      "cell_type": "code",
      "source": [
        "from sklearn.model_selection import train_test_split\n",
        "\n",
        "# Define features (X) and target (y)\n",
        "y = data['sentiment']  # Assuming 'sentiment' is the target column\n",
        "\n",
        "# Split the data into training and testing sets\n",
        "X_train_tfidf, X_test_tfidf, y_train, y_test = train_test_split(X_tfidf, y, test_size=0.2, random_state=42)\n"
      ],
      "metadata": {
        "id": "7YtzDdJlvoFs"
      },
      "execution_count": null,
      "outputs": []
    },
    {
      "cell_type": "markdown",
      "source": [
        "C"
      ],
      "metadata": {
        "id": "BAyS9yhNvole"
      }
    },
    {
      "cell_type": "code",
      "source": [
        "from sklearn.linear_model import LogisticRegression\n",
        "\n",
        "# Train logistic regression on TF-IDF data\n",
        "logistic_model_tfidf = LogisticRegression(max_iter=200)\n",
        "logistic_model_tfidf.fit(X_train_tfidf, y_train)\n",
        "\n",
        "# Evaluate the model\n",
        "logistic_accuracy_tfidf = logistic_model_tfidf.score(X_test_tfidf, y_test)\n",
        "print(f\"Logistic Regression (TF-IDF) Accuracy: {logistic_accuracy_tfidf}\")\n"
      ],
      "metadata": {
        "colab": {
          "base_uri": "https://localhost:8080/"
        },
        "id": "JB3RQIAXvpmU",
        "outputId": "23369287-d6e7-48b7-e986-a4fb5590ed2c"
      },
      "execution_count": null,
      "outputs": [
        {
          "output_type": "stream",
          "name": "stdout",
          "text": [
            "Logistic Regression (TF-IDF) Accuracy: 0.8997\n"
          ]
        }
      ]
    },
    {
      "cell_type": "code",
      "source": [
        "from sklearn.naive_bayes import MultinomialNB\n",
        "\n",
        "# Train Naive Bayes on TF-IDF data\n",
        "nb_model_tfidf = MultinomialNB()\n",
        "nb_model_tfidf.fit(X_train_tfidf, y_train)\n",
        "\n",
        "# Evaluate the model\n",
        "nb_accuracy_tfidf = nb_model_tfidf.score(X_test_tfidf, y_test)\n",
        "print(f\"Naive Bayes (TF-IDF) Accuracy: {nb_accuracy_tfidf}\")\n"
      ],
      "metadata": {
        "colab": {
          "base_uri": "https://localhost:8080/"
        },
        "id": "ZNclBh2YvzGm",
        "outputId": "110371de-7567-41a0-9405-d4a021a8121f"
      },
      "execution_count": null,
      "outputs": [
        {
          "output_type": "stream",
          "name": "stdout",
          "text": [
            "Naive Bayes (TF-IDF) Accuracy: 0.8638\n"
          ]
        }
      ]
    },
    {
      "cell_type": "markdown",
      "source": [
        "D"
      ],
      "metadata": {
        "id": "aTP2Csu1vqM9"
      }
    },
    {
      "cell_type": "code",
      "source": [
        "import matplotlib.pyplot as plt\n",
        "\n",
        "# Assume bag-of-words model accuracies are stored in 'logistic_accuracy' and 'nb_accuracy'\n",
        "# These should be the accuracies you obtained from the bag-of-words model\n",
        "\n",
        "accuracies = [logistic_accuracy, nb_accuracy, logistic_accuracy_tfidf, nb_accuracy_tfidf]\n",
        "models = ['Logistic Regression (BoW)', 'Naive Bayes (BoW)', 'Logistic Regression (TF-IDF)', 'Naive Bayes (TF-IDF)']\n",
        "\n",
        "# Create a bar plot\n",
        "plt.bar(models, accuracies, color=['blue', 'green', 'orange', 'red'])\n",
        "plt.title(\"Model Accuracy Comparison: BoW vs TF-IDF\")\n",
        "plt.ylabel(\"Accuracy\")\n",
        "plt.xlabel(\"Model\")\n",
        "plt.ylim(0, 1)\n",
        "plt.xticks(rotation=45, ha=\"right\")\n",
        "plt.show()\n"
      ],
      "metadata": {
        "colab": {
          "base_uri": "https://localhost:8080/",
          "height": 604
        },
        "id": "tY5rQdArvsh4",
        "outputId": "a339a72d-0ab3-4e5a-b84d-f69e3f901651"
      },
      "execution_count": null,
      "outputs": [
        {
          "output_type": "display_data",
          "data": {
            "text/plain": [
              "<Figure size 640x480 with 1 Axes>"
            ],
            "image/png": "[encoded data removed]"
          },
          "metadata": {}
        }
      ]
    },
    {
      "cell_type": "markdown",
      "source": [
        "ANSWER 3"
      ],
      "metadata": {
        "id": "ME7VDWgOGKTc"
      }
    },
    {
      "cell_type": "code",
      "source": [
        "import numpy as np\n",
        "import pandas as pd\n",
        "from tensorflow.keras.preprocessing.text import Tokenizer\n",
        "from tensorflow.keras.preprocessing.sequence import pad_sequences\n",
        "from sklearn.model_selection import train_test_split\n",
        "\n",
        "# Load your dataset\n",
        "# Replace 'path_to_your_dataset.csv' with the actual path to your dataset\n",
        "data = pd.read_csv('/content/drive/MyDrive/IMDB Dataset.csv')\n",
        "\n",
        "# Assuming the dataset has 'review' and 'sentiment' columns\n",
        "reviews = data['review'].values\n",
        "sentiments = data['sentiment'].values\n",
        "\n",
        "# Tokenize the text\n",
        "tokenizer = Tokenizer()\n",
        "tokenizer.fit_on_texts(reviews)\n",
        "sequences = tokenizer.texts_to_sequences(reviews)\n",
        "\n",
        "# Pad sequences to ensure uniform input length\n",
        "max_sequence_length = 100  # You can adjust this based on your dataset\n",
        "X = pad_sequences(sequences, maxlen=max_sequence_length)\n",
        "y = np.array([1 if sentiment == 'positive' else 0 for sentiment in sentiments])\n",
        "\n",
        "# Split into training and testing sets\n",
        "X_train, X_test, y_train, y_test = train_test_split(X, y, test_size=0.2, random_state=42)\n"
      ],
      "metadata": {
        "id": "m4zt4cIaSE14"
      },
      "execution_count": null,
      "outputs": []
    },
    {
      "cell_type": "code",
      "source": [
        "# Load GloVe embeddings\n",
        "embedding_index = {}\n",
        "with open('/content/drive/MyDrive/glove.6B.100d.txt', encoding='utf-8') as f:\n",
        "    for line in f:\n",
        "        values = line.split()\n",
        "        word = values[0]\n",
        "        coefs = np.asarray(values[1:], dtype='float32')\n",
        "        embedding_index[word] = coefs\n",
        "\n",
        "# Create an embedding matrix\n",
        "embedding_dim = 100\n",
        "word_index = tokenizer.word_index\n",
        "embedding_matrix = np.zeros((len(word_index) + 1, embedding_dim))\n",
        "for word, i in word_index.items():\n",
        "    embedding_vector = embedding_index.get(word)\n",
        "    if embedding_vector is not None:\n",
        "        embedding_matrix[i] = embedding_vector\n"
      ],
      "metadata": {
        "id": "Au6tWE7OSGn2"
      },
      "execution_count": null,
      "outputs": []
    },
    {
      "cell_type": "code",
      "source": [
        "from tensorflow.keras.models import Sequential\n",
        "from tensorflow.keras.layers import Embedding, SimpleRNN, Dense\n",
        "\n",
        "model = Sequential([\n",
        "    Embedding(input_dim=len(word_index) + 1,\n",
        "              output_dim=embedding_dim,\n",
        "              weights=[embedding_matrix],\n",
        "              input_length=max_sequence_length,\n",
        "              trainable=False),\n",
        "    SimpleRNN(10),  # Single RNN layer with 10 units\n",
        "    Dense(1, activation='sigmoid')  # Output layer for binary classification\n",
        "])\n",
        "\n",
        "model.compile(optimizer='adam', loss='binary_crossentropy', metrics=['accuracy'])\n",
        "model.summary()\n"
      ],
      "metadata": {
        "id": "YgsVwOZ_SJfg",
        "colab": {
          "base_uri": "https://localhost:8080/"
        },
        "outputId": "b236ea7b-82ad-47c1-80af-4d2705559516"
      },
      "execution_count": null,
      "outputs": [
        {
          "output_type": "stream",
          "name": "stdout",
          "text": [
            "Model: \"sequential\"\n",
            "_________________________________________________________________\n",
            " Layer (type)                Output Shape              Param #   \n",
            "=================================================================\n",
            " embedding (Embedding)       (None, 100, 100)          12425300  \n",
            "                                                                 \n",
            " simple_rnn (SimpleRNN)      (None, 10)                1110      \n",
            "                                                                 \n",
            " dense (Dense)               (None, 1)                 11        \n",
            "                                                                 \n",
            "=================================================================\n",
            "Total params: 12426421 (47.40 MB)\n",
            "Trainable params: 1121 (4.38 KB)\n",
            "Non-trainable params: 12425300 (47.40 MB)\n",
            "_________________________________________________________________\n"
          ]
        }
      ]
    },
    {
      "cell_type": "markdown",
      "source": [
        "Batch size 64"
      ],
      "metadata": {
        "id": "0Hxi2sGLfrie"
      }
    },
    {
      "cell_type": "code",
      "source": [
        "history = model.fit(X_train, y_train, epochs=50, batch_size=64, validation_data=(X_test, y_test))\n"
      ],
      "metadata": {
        "id": "31obNf1SSM_n",
        "colab": {
          "base_uri": "https://localhost:8080/"
        },
        "outputId": "f3b686d2-0a16-4cf8-81c1-3f02d19b2507"
      },
      "execution_count": null,
      "outputs": [
        {
          "output_type": "stream",
          "name": "stdout",
          "text": [
            "Epoch 1/50\n",
            "625/625 [==============================] - 11s 16ms/step - loss: 0.6690 - accuracy: 0.5956 - val_loss: 0.6113 - val_accuracy: 0.6789\n",
            "Epoch 2/50\n",
            "625/625 [==============================] - 9s 15ms/step - loss: 0.6470 - accuracy: 0.6199 - val_loss: 0.6688 - val_accuracy: 0.5836\n",
            "Epoch 3/50\n",
            "625/625 [==============================] - 10s 16ms/step - loss: 0.6603 - accuracy: 0.5957 - val_loss: 0.6541 - val_accuracy: 0.6123\n",
            "Epoch 4/50\n",
            "625/625 [==============================] - 9s 15ms/step - loss: 0.6332 - accuracy: 0.6403 - val_loss: 0.6141 - val_accuracy: 0.6642\n",
            "Epoch 5/50\n",
            "625/625 [==============================] - 9s 15ms/step - loss: 0.6327 - accuracy: 0.6428 - val_loss: 0.6180 - val_accuracy: 0.6502\n",
            "Epoch 6/50\n",
            "625/625 [==============================] - 10s 16ms/step - loss: 0.6074 - accuracy: 0.6760 - val_loss: 0.5713 - val_accuracy: 0.7167\n",
            "Epoch 7/50\n",
            "625/625 [==============================] - 10s 16ms/step - loss: 0.6575 - accuracy: 0.6094 - val_loss: 0.6236 - val_accuracy: 0.6659\n",
            "Epoch 8/50\n",
            "625/625 [==============================] - 10s 16ms/step - loss: 0.6155 - accuracy: 0.6698 - val_loss: 0.6770 - val_accuracy: 0.6090\n",
            "Epoch 9/50\n",
            "625/625 [==============================] - 10s 15ms/step - loss: 0.6214 - accuracy: 0.6626 - val_loss: 0.6118 - val_accuracy: 0.6800\n",
            "Epoch 10/50\n",
            "625/625 [==============================] - 10s 16ms/step - loss: 0.6178 - accuracy: 0.6678 - val_loss: 0.6826 - val_accuracy: 0.5735\n",
            "Epoch 11/50\n",
            "625/625 [==============================] - 9s 15ms/step - loss: 0.6443 - accuracy: 0.6299 - val_loss: 0.6056 - val_accuracy: 0.6767\n",
            "Epoch 12/50\n",
            "625/625 [==============================] - 10s 15ms/step - loss: 0.6072 - accuracy: 0.6750 - val_loss: 0.6181 - val_accuracy: 0.6549\n",
            "Epoch 13/50\n",
            "625/625 [==============================] - 10s 16ms/step - loss: 0.6074 - accuracy: 0.6730 - val_loss: 0.6970 - val_accuracy: 0.5536\n",
            "Epoch 14/50\n",
            "625/625 [==============================] - 10s 16ms/step - loss: 0.6421 - accuracy: 0.6259 - val_loss: 0.6018 - val_accuracy: 0.6774\n",
            "Epoch 15/50\n",
            "625/625 [==============================] - 9s 15ms/step - loss: 0.6162 - accuracy: 0.6743 - val_loss: 0.8699 - val_accuracy: 0.5086\n",
            "Epoch 16/50\n",
            "625/625 [==============================] - 10s 16ms/step - loss: 0.6785 - accuracy: 0.5738 - val_loss: 0.6678 - val_accuracy: 0.5902\n",
            "Epoch 17/50\n",
            "625/625 [==============================] - 10s 16ms/step - loss: 0.6623 - accuracy: 0.5997 - val_loss: 0.6556 - val_accuracy: 0.6103\n",
            "Epoch 18/50\n",
            "625/625 [==============================] - 10s 16ms/step - loss: 0.6784 - accuracy: 0.5894 - val_loss: 0.6684 - val_accuracy: 0.5791\n",
            "Epoch 19/50\n",
            "625/625 [==============================] - 10s 16ms/step - loss: 0.6412 - accuracy: 0.6268 - val_loss: 0.6221 - val_accuracy: 0.6588\n",
            "Epoch 20/50\n",
            "625/625 [==============================] - 10s 16ms/step - loss: 0.6125 - accuracy: 0.6726 - val_loss: 0.6627 - val_accuracy: 0.5929\n",
            "Epoch 21/50\n",
            "625/625 [==============================] - 10s 16ms/step - loss: 0.6208 - accuracy: 0.6566 - val_loss: 0.6656 - val_accuracy: 0.6240\n",
            "Epoch 22/50\n",
            "625/625 [==============================] - 10s 16ms/step - loss: 0.6362 - accuracy: 0.6386 - val_loss: 0.6703 - val_accuracy: 0.5884\n",
            "Epoch 23/50\n",
            "625/625 [==============================] - 10s 15ms/step - loss: 0.6638 - accuracy: 0.5972 - val_loss: 0.6609 - val_accuracy: 0.6057\n",
            "Epoch 24/50\n",
            "625/625 [==============================] - 10s 16ms/step - loss: 0.6522 - accuracy: 0.6170 - val_loss: 0.6429 - val_accuracy: 0.6381\n",
            "Epoch 25/50\n",
            "625/625 [==============================] - 10s 16ms/step - loss: 0.6179 - accuracy: 0.6687 - val_loss: 0.6004 - val_accuracy: 0.6974\n",
            "Epoch 26/50\n",
            "625/625 [==============================] - 10s 16ms/step - loss: 0.5959 - accuracy: 0.6937 - val_loss: 0.6002 - val_accuracy: 0.6892\n",
            "Epoch 27/50\n",
            "625/625 [==============================] - 9s 15ms/step - loss: 0.6117 - accuracy: 0.6680 - val_loss: 0.6611 - val_accuracy: 0.5914\n",
            "Epoch 28/50\n",
            "625/625 [==============================] - 10s 16ms/step - loss: 0.6295 - accuracy: 0.6486 - val_loss: 0.6008 - val_accuracy: 0.6927\n",
            "Epoch 29/50\n",
            "625/625 [==============================] - 10s 16ms/step - loss: 0.5882 - accuracy: 0.7036 - val_loss: 0.6688 - val_accuracy: 0.6236\n",
            "Epoch 30/50\n",
            "625/625 [==============================] - 10s 16ms/step - loss: 0.6490 - accuracy: 0.6265 - val_loss: 0.6062 - val_accuracy: 0.6796\n",
            "Epoch 31/50\n",
            "625/625 [==============================] - 10s 16ms/step - loss: 0.6045 - accuracy: 0.6803 - val_loss: 0.5817 - val_accuracy: 0.7137\n",
            "Epoch 32/50\n",
            "625/625 [==============================] - 9s 15ms/step - loss: 0.5952 - accuracy: 0.6894 - val_loss: 0.6075 - val_accuracy: 0.6970\n",
            "Epoch 33/50\n",
            "625/625 [==============================] - 10s 16ms/step - loss: 0.6299 - accuracy: 0.6465 - val_loss: 0.6361 - val_accuracy: 0.6246\n",
            "Epoch 34/50\n",
            "625/625 [==============================] - 10s 15ms/step - loss: 0.6069 - accuracy: 0.6697 - val_loss: 0.6397 - val_accuracy: 0.6722\n",
            "Epoch 35/50\n",
            "625/625 [==============================] - 10s 16ms/step - loss: 0.6479 - accuracy: 0.6230 - val_loss: 0.6718 - val_accuracy: 0.5832\n",
            "Epoch 36/50\n",
            "625/625 [==============================] - 10s 15ms/step - loss: 0.6620 - accuracy: 0.6013 - val_loss: 0.6206 - val_accuracy: 0.6702\n",
            "Epoch 37/50\n",
            "625/625 [==============================] - 10s 16ms/step - loss: 0.6002 - accuracy: 0.6895 - val_loss: 0.5964 - val_accuracy: 0.6942\n",
            "Epoch 38/50\n",
            "625/625 [==============================] - 9s 15ms/step - loss: 0.6071 - accuracy: 0.6754 - val_loss: 0.5881 - val_accuracy: 0.7014\n",
            "Epoch 39/50\n",
            "625/625 [==============================] - 9s 15ms/step - loss: 0.5903 - accuracy: 0.6978 - val_loss: 0.5781 - val_accuracy: 0.7114\n",
            "Epoch 40/50\n",
            "625/625 [==============================] - 10s 16ms/step - loss: 0.5824 - accuracy: 0.7065 - val_loss: 0.5647 - val_accuracy: 0.7266\n",
            "Epoch 41/50\n",
            "625/625 [==============================] - 9s 15ms/step - loss: 0.6827 - accuracy: 0.5701 - val_loss: 0.6696 - val_accuracy: 0.5819\n",
            "Epoch 42/50\n",
            "625/625 [==============================] - 9s 15ms/step - loss: 0.6506 - accuracy: 0.6175 - val_loss: 0.6524 - val_accuracy: 0.6226\n",
            "Epoch 43/50\n",
            "625/625 [==============================] - 9s 15ms/step - loss: 0.6026 - accuracy: 0.6808 - val_loss: 0.5888 - val_accuracy: 0.6924\n",
            "Epoch 44/50\n",
            "625/625 [==============================] - 9s 15ms/step - loss: 0.6194 - accuracy: 0.6521 - val_loss: 0.6643 - val_accuracy: 0.5853\n",
            "Epoch 45/50\n",
            "625/625 [==============================] - 9s 15ms/step - loss: 0.6593 - accuracy: 0.5978 - val_loss: 0.6505 - val_accuracy: 0.6219\n",
            "Epoch 46/50\n",
            "625/625 [==============================] - 10s 16ms/step - loss: 0.6191 - accuracy: 0.6601 - val_loss: 0.5946 - val_accuracy: 0.7103\n",
            "Epoch 47/50\n",
            "625/625 [==============================] - 10s 15ms/step - loss: 0.5701 - accuracy: 0.7185 - val_loss: 0.5593 - val_accuracy: 0.7312\n",
            "Epoch 48/50\n",
            "625/625 [==============================] - 9s 15ms/step - loss: 0.5892 - accuracy: 0.6975 - val_loss: 0.6195 - val_accuracy: 0.6685\n",
            "Epoch 49/50\n",
            "625/625 [==============================] - 10s 16ms/step - loss: 0.6145 - accuracy: 0.6703 - val_loss: 0.6506 - val_accuracy: 0.6268\n",
            "Epoch 50/50\n",
            "625/625 [==============================] - 10s 15ms/step - loss: 0.6394 - accuracy: 0.6378 - val_loss: 0.6324 - val_accuracy: 0.6474\n"
          ]
        }
      ]
    },
    {
      "cell_type": "code",
      "source": [
        "loss, accuracy = model.evaluate(X_test, y_test)\n",
        "print(f'Test Accuracy: {accuracy:.4f}')\n"
      ],
      "metadata": {
        "id": "kxogQn3gSQ9d",
        "colab": {
          "base_uri": "https://localhost:8080/"
        },
        "outputId": "976399d2-9593-40b7-e2a0-60140030b612"
      },
      "execution_count": null,
      "outputs": [
        {
          "output_type": "stream",
          "name": "stdout",
          "text": [
            "313/313 [==============================] - 2s 6ms/step - loss: 0.6324 - accuracy: 0.6474\n",
            "Test Accuracy: 0.6474\n"
          ]
        }
      ]
    },
    {
      "cell_type": "markdown",
      "source": [
        "Batch size changed to 32"
      ],
      "metadata": {
        "id": "EUpgURtLfn7W"
      }
    },
    {
      "cell_type": "code",
      "source": [
        "history = model.fit(X_train, y_train, epochs=50, batch_size=32, validation_data=(X_test, y_test))\n"
      ],
      "metadata": {
        "colab": {
          "base_uri": "https://localhost:8080/"
        },
        "outputId": "1ddd60c4-83a3-4d42-8e8e-53cf86efa0ae",
        "id": "9-cyu7CwZXdA"
      },
      "execution_count": null,
      "outputs": [
        {
          "output_type": "stream",
          "name": "stdout",
          "text": [
            "Epoch 1/50\n",
            "1250/1250 [==============================] - 22s 17ms/step - loss: 0.6048 - accuracy: 0.6743 - val_loss: 0.6007 - val_accuracy: 0.6788\n",
            "Epoch 2/50\n",
            "1250/1250 [==============================] - 21s 17ms/step - loss: 0.6177 - accuracy: 0.6617 - val_loss: 0.6209 - val_accuracy: 0.6548\n",
            "Epoch 3/50\n",
            "1250/1250 [==============================] - 21s 17ms/step - loss: 0.5963 - accuracy: 0.6867 - val_loss: 0.5699 - val_accuracy: 0.7166\n",
            "Epoch 4/50\n",
            "1250/1250 [==============================] - 21s 16ms/step - loss: 0.5689 - accuracy: 0.7089 - val_loss: 0.5853 - val_accuracy: 0.7011\n",
            "Epoch 5/50\n",
            "1250/1250 [==============================] - 21s 17ms/step - loss: 0.6232 - accuracy: 0.6516 - val_loss: 0.6550 - val_accuracy: 0.6206\n",
            "Epoch 6/50\n",
            "1250/1250 [==============================] - 20s 16ms/step - loss: 0.6593 - accuracy: 0.6023 - val_loss: 0.6031 - val_accuracy: 0.6782\n",
            "Epoch 7/50\n",
            "1250/1250 [==============================] - 19s 16ms/step - loss: 0.6009 - accuracy: 0.6720 - val_loss: 0.5828 - val_accuracy: 0.7092\n",
            "Epoch 8/50\n",
            "1250/1250 [==============================] - 21s 17ms/step - loss: 0.6410 - accuracy: 0.6303 - val_loss: 0.6747 - val_accuracy: 0.5627\n",
            "Epoch 9/50\n",
            "1250/1250 [==============================] - 21s 16ms/step - loss: 0.6724 - accuracy: 0.5701 - val_loss: 0.6684 - val_accuracy: 0.5735\n",
            "Epoch 10/50\n",
            "1250/1250 [==============================] - 20s 16ms/step - loss: 0.6624 - accuracy: 0.5832 - val_loss: 0.6525 - val_accuracy: 0.6054\n",
            "Epoch 11/50\n",
            "1250/1250 [==============================] - 21s 17ms/step - loss: 0.6311 - accuracy: 0.6372 - val_loss: 0.6466 - val_accuracy: 0.6172\n",
            "Epoch 12/50\n",
            "1250/1250 [==============================] - 21s 16ms/step - loss: 0.6122 - accuracy: 0.6650 - val_loss: 0.6006 - val_accuracy: 0.6880\n",
            "Epoch 13/50\n",
            "1250/1250 [==============================] - 21s 17ms/step - loss: 0.6112 - accuracy: 0.6676 - val_loss: 0.6067 - val_accuracy: 0.6791\n",
            "Epoch 14/50\n",
            "1250/1250 [==============================] - 19s 15ms/step - loss: 0.6110 - accuracy: 0.6689 - val_loss: 0.6300 - val_accuracy: 0.6432\n",
            "Epoch 15/50\n",
            "1250/1250 [==============================] - 19s 15ms/step - loss: 0.5952 - accuracy: 0.6882 - val_loss: 0.5926 - val_accuracy: 0.7061\n",
            "Epoch 16/50\n",
            "1250/1250 [==============================] - 19s 15ms/step - loss: 0.5872 - accuracy: 0.7027 - val_loss: 0.5795 - val_accuracy: 0.7123\n",
            "Epoch 17/50\n",
            "1250/1250 [==============================] - 20s 16ms/step - loss: 0.6001 - accuracy: 0.6872 - val_loss: 0.5731 - val_accuracy: 0.7122\n",
            "Epoch 18/50\n",
            "1250/1250 [==============================] - 20s 16ms/step - loss: 0.6157 - accuracy: 0.6643 - val_loss: 0.6119 - val_accuracy: 0.6803\n",
            "Epoch 19/50\n",
            "1250/1250 [==============================] - 20s 16ms/step - loss: 0.6019 - accuracy: 0.6875 - val_loss: 0.6139 - val_accuracy: 0.6821\n",
            "Epoch 20/50\n",
            "1250/1250 [==============================] - 20s 16ms/step - loss: 0.6145 - accuracy: 0.6740 - val_loss: 0.6188 - val_accuracy: 0.6755\n",
            "Epoch 21/50\n",
            "1250/1250 [==============================] - 20s 16ms/step - loss: 0.5903 - accuracy: 0.6886 - val_loss: 0.5976 - val_accuracy: 0.6885\n",
            "Epoch 22/50\n",
            "1250/1250 [==============================] - 20s 16ms/step - loss: 0.5987 - accuracy: 0.6813 - val_loss: 0.6130 - val_accuracy: 0.6606\n",
            "Epoch 23/50\n",
            "1250/1250 [==============================] - 21s 17ms/step - loss: 0.5824 - accuracy: 0.6931 - val_loss: 0.5744 - val_accuracy: 0.7174\n",
            "Epoch 24/50\n",
            "1250/1250 [==============================] - 20s 16ms/step - loss: 0.5812 - accuracy: 0.6947 - val_loss: 0.5590 - val_accuracy: 0.7223\n",
            "Epoch 25/50\n",
            "1250/1250 [==============================] - 21s 17ms/step - loss: 0.5704 - accuracy: 0.7107 - val_loss: 0.7187 - val_accuracy: 0.5717\n",
            "Epoch 26/50\n",
            "1250/1250 [==============================] - 21s 16ms/step - loss: 0.6134 - accuracy: 0.6666 - val_loss: 0.5927 - val_accuracy: 0.7013\n",
            "Epoch 27/50\n",
            "1250/1250 [==============================] - 20s 16ms/step - loss: 0.6150 - accuracy: 0.6724 - val_loss: 0.6421 - val_accuracy: 0.6518\n",
            "Epoch 28/50\n",
            "1250/1250 [==============================] - 19s 15ms/step - loss: 0.5807 - accuracy: 0.7031 - val_loss: 0.5897 - val_accuracy: 0.6967\n",
            "Epoch 29/50\n",
            "1250/1250 [==============================] - 19s 16ms/step - loss: 0.6312 - accuracy: 0.6279 - val_loss: 0.6207 - val_accuracy: 0.6485\n",
            "Epoch 30/50\n",
            "1250/1250 [==============================] - 20s 16ms/step - loss: 0.6141 - accuracy: 0.6633 - val_loss: 0.5756 - val_accuracy: 0.7179\n",
            "Epoch 31/50\n",
            "1250/1250 [==============================] - 20s 16ms/step - loss: 0.5910 - accuracy: 0.6905 - val_loss: 0.6379 - val_accuracy: 0.6339\n",
            "Epoch 32/50\n",
            "1250/1250 [==============================] - 19s 15ms/step - loss: 0.5897 - accuracy: 0.6888 - val_loss: 0.6304 - val_accuracy: 0.6459\n",
            "Epoch 33/50\n",
            "1250/1250 [==============================] - 19s 15ms/step - loss: 0.5855 - accuracy: 0.6924 - val_loss: 0.5747 - val_accuracy: 0.7034\n",
            "Epoch 34/50\n",
            "1250/1250 [==============================] - 18s 15ms/step - loss: 0.5751 - accuracy: 0.7016 - val_loss: 0.5860 - val_accuracy: 0.6947\n",
            "Epoch 35/50\n",
            "1250/1250 [==============================] - 20s 16ms/step - loss: 0.5701 - accuracy: 0.7110 - val_loss: 0.5718 - val_accuracy: 0.7050\n",
            "Epoch 36/50\n",
            "1250/1250 [==============================] - 19s 15ms/step - loss: 0.5704 - accuracy: 0.7117 - val_loss: 0.5760 - val_accuracy: 0.7060\n",
            "Epoch 37/50\n",
            "1250/1250 [==============================] - 20s 16ms/step - loss: 0.5929 - accuracy: 0.6935 - val_loss: 0.5762 - val_accuracy: 0.7080\n",
            "Epoch 38/50\n",
            "1250/1250 [==============================] - 19s 16ms/step - loss: 0.5717 - accuracy: 0.7103 - val_loss: 0.5982 - val_accuracy: 0.6824\n",
            "Epoch 39/50\n",
            "1250/1250 [==============================] - 20s 16ms/step - loss: 0.5926 - accuracy: 0.6910 - val_loss: 0.7170 - val_accuracy: 0.5775\n",
            "Epoch 40/50\n",
            "1250/1250 [==============================] - 21s 17ms/step - loss: 0.6049 - accuracy: 0.6684 - val_loss: 0.5974 - val_accuracy: 0.6748\n",
            "Epoch 41/50\n",
            "1250/1250 [==============================] - 19s 15ms/step - loss: 0.5838 - accuracy: 0.6934 - val_loss: 0.5980 - val_accuracy: 0.6823\n",
            "Epoch 42/50\n",
            "1250/1250 [==============================] - 20s 16ms/step - loss: 0.5635 - accuracy: 0.7196 - val_loss: 0.5641 - val_accuracy: 0.7130\n",
            "Epoch 43/50\n",
            "1250/1250 [==============================] - 21s 17ms/step - loss: 0.5680 - accuracy: 0.7119 - val_loss: 0.6292 - val_accuracy: 0.6587\n",
            "Epoch 44/50\n",
            "1250/1250 [==============================] - 19s 15ms/step - loss: 0.5684 - accuracy: 0.7157 - val_loss: 0.5703 - val_accuracy: 0.6963\n",
            "Epoch 45/50\n",
            "1250/1250 [==============================] - 20s 16ms/step - loss: 0.5711 - accuracy: 0.7169 - val_loss: 0.5662 - val_accuracy: 0.7255\n",
            "Epoch 46/50\n",
            "1250/1250 [==============================] - 19s 15ms/step - loss: 0.5831 - accuracy: 0.7031 - val_loss: 0.5815 - val_accuracy: 0.7127\n",
            "Epoch 47/50\n",
            "1250/1250 [==============================] - 20s 16ms/step - loss: 0.5729 - accuracy: 0.7143 - val_loss: 0.5725 - val_accuracy: 0.7184\n",
            "Epoch 48/50\n",
            "1250/1250 [==============================] - 20s 16ms/step - loss: 0.5759 - accuracy: 0.7069 - val_loss: 0.5879 - val_accuracy: 0.7005\n",
            "Epoch 49/50\n",
            "1250/1250 [==============================] - 21s 16ms/step - loss: 0.6176 - accuracy: 0.6704 - val_loss: 0.5893 - val_accuracy: 0.7022\n",
            "Epoch 50/50\n",
            "1250/1250 [==============================] - 20s 16ms/step - loss: 0.5717 - accuracy: 0.7176 - val_loss: 0.7342 - val_accuracy: 0.6195\n"
          ]
        }
      ]
    },
    {
      "cell_type": "code",
      "source": [
        "loss, accuracy = model.evaluate(X_test, y_test)\n",
        "print(f'Test Accuracy: {accuracy:.4f}')"
      ],
      "metadata": {
        "colab": {
          "base_uri": "https://localhost:8080/"
        },
        "id": "BP1Pf8Rlc85O",
        "outputId": "1cfc1df2-b9b0-4283-efb9-b4032b04c218"
      },
      "execution_count": null,
      "outputs": [
        {
          "output_type": "stream",
          "name": "stdout",
          "text": [
            "313/313 [==============================] - 2s 8ms/step - loss: 0.7342 - accuracy: 0.6195\n",
            "Test Accuracy: 0.6195\n"
          ]
        }
      ]
    },
    {
      "cell_type": "markdown",
      "source": [
        "Observation : Decreasing the batch size to 32, reduced accuracy."
      ],
      "metadata": {
        "id": "PX8c67OUfw9O"
      }
    },
    {
      "cell_type": "markdown",
      "source": [
        "Batch size increased to 128"
      ],
      "metadata": {
        "id": "2jKjMpSDf-Ye"
      }
    },
    {
      "cell_type": "code",
      "source": [
        "history = model.fit(X_train, y_train, epochs=50, batch_size=128, validation_data=(X_test, y_test))"
      ],
      "metadata": {
        "colab": {
          "base_uri": "https://localhost:8080/"
        },
        "id": "JBal9ko_db6W",
        "outputId": "5358b748-00d4-490c-a632-398fa71c124c"
      },
      "execution_count": null,
      "outputs": [
        {
          "output_type": "stream",
          "name": "stdout",
          "text": [
            "Epoch 1/50\n",
            "313/313 [==============================] - 6s 19ms/step - loss: 0.6168 - accuracy: 0.6831 - val_loss: 0.5812 - val_accuracy: 0.7172\n",
            "Epoch 2/50\n",
            "313/313 [==============================] - 6s 20ms/step - loss: 0.5805 - accuracy: 0.7002 - val_loss: 0.5728 - val_accuracy: 0.7127\n",
            "Epoch 3/50\n",
            "313/313 [==============================] - 6s 19ms/step - loss: 0.5706 - accuracy: 0.7053 - val_loss: 0.5820 - val_accuracy: 0.7047\n",
            "Epoch 4/50\n",
            "313/313 [==============================] - 6s 19ms/step - loss: 0.5768 - accuracy: 0.7161 - val_loss: 0.5723 - val_accuracy: 0.7226\n",
            "Epoch 5/50\n",
            "313/313 [==============================] - 6s 19ms/step - loss: 0.5768 - accuracy: 0.7059 - val_loss: 0.5719 - val_accuracy: 0.7074\n",
            "Epoch 6/50\n",
            "313/313 [==============================] - 6s 20ms/step - loss: 0.5627 - accuracy: 0.7156 - val_loss: 0.5607 - val_accuracy: 0.7143\n",
            "Epoch 7/50\n",
            "313/313 [==============================] - 6s 19ms/step - loss: 0.5659 - accuracy: 0.7080 - val_loss: 0.5818 - val_accuracy: 0.6908\n",
            "Epoch 8/50\n",
            "313/313 [==============================] - 6s 19ms/step - loss: 0.5741 - accuracy: 0.7124 - val_loss: 0.5515 - val_accuracy: 0.7362\n",
            "Epoch 9/50\n",
            "313/313 [==============================] - 6s 19ms/step - loss: 0.6652 - accuracy: 0.6135 - val_loss: 0.6566 - val_accuracy: 0.6151\n",
            "Epoch 10/50\n",
            "313/313 [==============================] - 6s 19ms/step - loss: 0.6506 - accuracy: 0.6260 - val_loss: 0.6521 - val_accuracy: 0.6189\n",
            "Epoch 11/50\n",
            "313/313 [==============================] - 6s 19ms/step - loss: 0.6458 - accuracy: 0.6285 - val_loss: 0.6494 - val_accuracy: 0.6167\n",
            "Epoch 12/50\n",
            "313/313 [==============================] - 7s 21ms/step - loss: 0.6409 - accuracy: 0.6326 - val_loss: 0.6405 - val_accuracy: 0.6337\n",
            "Epoch 13/50\n",
            "313/313 [==============================] - 6s 19ms/step - loss: 0.6304 - accuracy: 0.6488 - val_loss: 0.6258 - val_accuracy: 0.6562\n",
            "Epoch 14/50\n",
            "313/313 [==============================] - 6s 19ms/step - loss: 0.6141 - accuracy: 0.6700 - val_loss: 0.6074 - val_accuracy: 0.6787\n",
            "Epoch 15/50\n",
            "313/313 [==============================] - 6s 19ms/step - loss: 0.5917 - accuracy: 0.6961 - val_loss: 0.5882 - val_accuracy: 0.7009\n",
            "Epoch 16/50\n",
            "313/313 [==============================] - 6s 19ms/step - loss: 0.5868 - accuracy: 0.6967 - val_loss: 0.5908 - val_accuracy: 0.6906\n",
            "Epoch 17/50\n",
            "313/313 [==============================] - 6s 19ms/step - loss: 0.5852 - accuracy: 0.6954 - val_loss: 0.5897 - val_accuracy: 0.6896\n",
            "Epoch 18/50\n",
            "313/313 [==============================] - 6s 18ms/step - loss: 0.5829 - accuracy: 0.6973 - val_loss: 0.5868 - val_accuracy: 0.6931\n",
            "Epoch 19/50\n",
            "313/313 [==============================] - 6s 19ms/step - loss: 0.5777 - accuracy: 0.7043 - val_loss: 0.5835 - val_accuracy: 0.7004\n",
            "Epoch 20/50\n",
            "313/313 [==============================] - 6s 19ms/step - loss: 0.5752 - accuracy: 0.7075 - val_loss: 0.5820 - val_accuracy: 0.7005\n",
            "Epoch 21/50\n",
            "313/313 [==============================] - 6s 20ms/step - loss: 0.5776 - accuracy: 0.7085 - val_loss: 0.5924 - val_accuracy: 0.7008\n",
            "Epoch 22/50\n",
            "313/313 [==============================] - 6s 19ms/step - loss: 0.5793 - accuracy: 0.7099 - val_loss: 0.5820 - val_accuracy: 0.7098\n",
            "Epoch 23/50\n",
            "313/313 [==============================] - 6s 20ms/step - loss: 0.5789 - accuracy: 0.7092 - val_loss: 0.5832 - val_accuracy: 0.7067\n",
            "Epoch 24/50\n",
            "313/313 [==============================] - 6s 19ms/step - loss: 0.5764 - accuracy: 0.7002 - val_loss: 0.5937 - val_accuracy: 0.6742\n",
            "Epoch 25/50\n",
            "313/313 [==============================] - 6s 19ms/step - loss: 0.5769 - accuracy: 0.6925 - val_loss: 0.5831 - val_accuracy: 0.6943\n",
            "Epoch 26/50\n",
            "313/313 [==============================] - 6s 19ms/step - loss: 0.5830 - accuracy: 0.6930 - val_loss: 0.5829 - val_accuracy: 0.6962\n",
            "Epoch 27/50\n",
            "313/313 [==============================] - 6s 20ms/step - loss: 0.5747 - accuracy: 0.7052 - val_loss: 0.5835 - val_accuracy: 0.7018\n",
            "Epoch 28/50\n",
            "313/313 [==============================] - 6s 19ms/step - loss: 0.5713 - accuracy: 0.7120 - val_loss: 0.5804 - val_accuracy: 0.7081\n",
            "Epoch 29/50\n",
            "313/313 [==============================] - 6s 19ms/step - loss: 0.5755 - accuracy: 0.7102 - val_loss: 0.5720 - val_accuracy: 0.7145\n",
            "Epoch 30/50\n",
            "313/313 [==============================] - 6s 19ms/step - loss: 0.5893 - accuracy: 0.6920 - val_loss: 0.6070 - val_accuracy: 0.6702\n",
            "Epoch 31/50\n",
            "313/313 [==============================] - 6s 19ms/step - loss: 0.5834 - accuracy: 0.6998 - val_loss: 0.5768 - val_accuracy: 0.7066\n",
            "Epoch 32/50\n",
            "313/313 [==============================] - 6s 19ms/step - loss: 0.5656 - accuracy: 0.7188 - val_loss: 0.6072 - val_accuracy: 0.6841\n",
            "Epoch 33/50\n",
            "313/313 [==============================] - 6s 19ms/step - loss: 0.5769 - accuracy: 0.6966 - val_loss: 0.5719 - val_accuracy: 0.7029\n",
            "Epoch 34/50\n",
            "313/313 [==============================] - 6s 19ms/step - loss: 0.5625 - accuracy: 0.7131 - val_loss: 0.5701 - val_accuracy: 0.7172\n",
            "Epoch 35/50\n",
            "313/313 [==============================] - 6s 19ms/step - loss: 0.5607 - accuracy: 0.7155 - val_loss: 0.5872 - val_accuracy: 0.6823\n",
            "Epoch 36/50\n",
            "313/313 [==============================] - 6s 19ms/step - loss: 0.5697 - accuracy: 0.6959 - val_loss: 0.5714 - val_accuracy: 0.7151\n",
            "Epoch 37/50\n",
            "313/313 [==============================] - 6s 19ms/step - loss: 0.5561 - accuracy: 0.7223 - val_loss: 0.5588 - val_accuracy: 0.7267\n",
            "Epoch 38/50\n",
            "313/313 [==============================] - 6s 19ms/step - loss: 0.5840 - accuracy: 0.7010 - val_loss: 0.6023 - val_accuracy: 0.6868\n",
            "Epoch 39/50\n",
            "313/313 [==============================] - 6s 19ms/step - loss: 0.5771 - accuracy: 0.7154 - val_loss: 0.5699 - val_accuracy: 0.7250\n",
            "Epoch 40/50\n",
            "313/313 [==============================] - 6s 19ms/step - loss: 0.5612 - accuracy: 0.7292 - val_loss: 0.5712 - val_accuracy: 0.7234\n",
            "Epoch 41/50\n",
            "313/313 [==============================] - 6s 19ms/step - loss: 0.5596 - accuracy: 0.7301 - val_loss: 0.5569 - val_accuracy: 0.7344\n",
            "Epoch 42/50\n",
            "313/313 [==============================] - 6s 19ms/step - loss: 0.5439 - accuracy: 0.7398 - val_loss: 0.5522 - val_accuracy: 0.7264\n",
            "Epoch 43/50\n",
            "313/313 [==============================] - 6s 18ms/step - loss: 0.5609 - accuracy: 0.7242 - val_loss: 0.5667 - val_accuracy: 0.7213\n",
            "Epoch 44/50\n",
            "313/313 [==============================] - 6s 19ms/step - loss: 0.5634 - accuracy: 0.7251 - val_loss: 0.5737 - val_accuracy: 0.7158\n",
            "Epoch 45/50\n",
            "313/313 [==============================] - 6s 19ms/step - loss: 0.5605 - accuracy: 0.7298 - val_loss: 0.5768 - val_accuracy: 0.7142\n",
            "Epoch 46/50\n",
            "313/313 [==============================] - 6s 19ms/step - loss: 0.5661 - accuracy: 0.7212 - val_loss: 0.5611 - val_accuracy: 0.7275\n",
            "Epoch 47/50\n",
            "313/313 [==============================] - 6s 19ms/step - loss: 0.5548 - accuracy: 0.7279 - val_loss: 0.5471 - val_accuracy: 0.7364\n",
            "Epoch 48/50\n",
            "313/313 [==============================] - 6s 19ms/step - loss: 0.5395 - accuracy: 0.7377 - val_loss: 0.5557 - val_accuracy: 0.7308\n",
            "Epoch 49/50\n",
            "313/313 [==============================] - 6s 19ms/step - loss: 0.5515 - accuracy: 0.7323 - val_loss: 0.5566 - val_accuracy: 0.7300\n",
            "Epoch 50/50\n",
            "313/313 [==============================] - 6s 19ms/step - loss: 0.5530 - accuracy: 0.7286 - val_loss: 0.5531 - val_accuracy: 0.7346\n"
          ]
        }
      ]
    },
    {
      "cell_type": "code",
      "source": [
        "loss, accuracy = model.evaluate(X_test, y_test)\n",
        "print(f'Test Accuracy: {accuracy:.4f}')"
      ],
      "metadata": {
        "colab": {
          "base_uri": "https://localhost:8080/"
        },
        "id": "4FNYR0z1esj4",
        "outputId": "ec5a9ae3-a373-45d1-de33-2dd1cba53777"
      },
      "execution_count": null,
      "outputs": [
        {
          "output_type": "stream",
          "name": "stdout",
          "text": [
            "313/313 [==============================] - 2s 6ms/step - loss: 0.5531 - accuracy: 0.7346\n",
            "Test Accuracy: 0.7346\n"
          ]
        }
      ]
    },
    {
      "cell_type": "markdown",
      "source": [
        "Observation : After increasing the batch size to 128, accuracy improved"
      ],
      "metadata": {
        "id": "YR2lWH2uev7O"
      }
    },
    {
      "cell_type": "code",
      "source": [
        "history = model.fit(X_train, y_train, epochs=50, batch_size=124, validation_data=(X_test, y_test))"
      ],
      "metadata": {
        "colab": {
          "base_uri": "https://localhost:8080/"
        },
        "id": "06UcSd0O0Gst",
        "outputId": "939a73f4-e1e9-4903-a43d-43d52137b2d7",
        "collapsed": true
      },
      "execution_count": null,
      "outputs": [
        {
          "output_type": "stream",
          "name": "stdout",
          "text": [
            "Epoch 1/50\n",
            "\u001b[1m323/323\u001b[0m \u001b[32m━━━━━━━━━━━━━━━━━━━━\u001b[0m\u001b[37m\u001b[0m \u001b[1m4s\u001b[0m 11ms/step - accuracy: 0.8954 - loss: 0.2957 - val_accuracy: 0.7132 - val_loss: 0.8536\n",
            "Epoch 2/50\n",
            "\u001b[1m323/323\u001b[0m \u001b[32m━━━━━━━━━━━━━━━━━━━━\u001b[0m\u001b[37m\u001b[0m \u001b[1m5s\u001b[0m 12ms/step - accuracy: 0.8953 - loss: 0.2965 - val_accuracy: 0.7120 - val_loss: 0.8674\n",
            "Epoch 3/50\n",
            "\u001b[1m323/323\u001b[0m \u001b[32m━━━━━━━━━━━━━━━━━━━━\u001b[0m\u001b[37m\u001b[0m \u001b[1m4s\u001b[0m 13ms/step - accuracy: 0.8979 - loss: 0.2887 - val_accuracy: 0.7114 - val_loss: 0.8837\n",
            "Epoch 4/50\n",
            "\u001b[1m323/323\u001b[0m \u001b[32m━━━━━━━━━━━━━━━━━━━━\u001b[0m\u001b[37m\u001b[0m \u001b[1m4s\u001b[0m 10ms/step - accuracy: 0.8979 - loss: 0.2898 - val_accuracy: 0.7138 - val_loss: 0.9210\n",
            "Epoch 5/50\n",
            "\u001b[1m323/323\u001b[0m \u001b[32m━━━━━━━━━━━━━━━━━━━━\u001b[0m\u001b[37m\u001b[0m \u001b[1m5s\u001b[0m 9ms/step - accuracy: 0.8959 - loss: 0.2937 - val_accuracy: 0.7116 - val_loss: 0.9545\n",
            "Epoch 6/50\n",
            "\u001b[1m323/323\u001b[0m \u001b[32m━━━━━━━━━━━━━━━━━━━━\u001b[0m\u001b[37m\u001b[0m \u001b[1m6s\u001b[0m 12ms/step - accuracy: 0.8878 - loss: 0.3007 - val_accuracy: 0.7108 - val_loss: 0.9079\n",
            "Epoch 7/50\n",
            "\u001b[1m323/323\u001b[0m \u001b[32m━━━━━━━━━━━━━━━━━━━━\u001b[0m\u001b[37m\u001b[0m \u001b[1m4s\u001b[0m 9ms/step - accuracy: 0.8948 - loss: 0.2973 - val_accuracy: 0.7113 - val_loss: 0.9128\n",
            "Epoch 8/50\n",
            "\u001b[1m323/323\u001b[0m \u001b[32m━━━━━━━━━━━━━━━━━━━━\u001b[0m\u001b[37m\u001b[0m \u001b[1m3s\u001b[0m 9ms/step - accuracy: 0.8948 - loss: 0.2916 - val_accuracy: 0.7114 - val_loss: 0.9385\n",
            "Epoch 9/50\n",
            "\u001b[1m323/323\u001b[0m \u001b[32m━━━━━━━━━━━━━━━━━━━━\u001b[0m\u001b[37m\u001b[0m \u001b[1m4s\u001b[0m 13ms/step - accuracy: 0.8970 - loss: 0.2928 - val_accuracy: 0.7100 - val_loss: 0.9248\n",
            "Epoch 10/50\n",
            "\u001b[1m323/323\u001b[0m \u001b[32m━━━━━━━━━━━━━━━━━━━━\u001b[0m\u001b[37m\u001b[0m \u001b[1m4s\u001b[0m 9ms/step - accuracy: 0.8970 - loss: 0.2897 - val_accuracy: 0.7107 - val_loss: 0.9630\n",
            "Epoch 11/50\n",
            "\u001b[1m323/323\u001b[0m \u001b[32m━━━━━━━━━━━━━━━━━━━━\u001b[0m\u001b[37m\u001b[0m \u001b[1m3s\u001b[0m 9ms/step - accuracy: 0.8974 - loss: 0.2835 - val_accuracy: 0.7106 - val_loss: 1.0346\n",
            "Epoch 12/50\n",
            "\u001b[1m323/323\u001b[0m \u001b[32m━━━━━━━━━━━━━━━━━━━━\u001b[0m\u001b[37m\u001b[0m \u001b[1m6s\u001b[0m 11ms/step - accuracy: 0.9030 - loss: 0.2781 - val_accuracy: 0.7125 - val_loss: 0.9749\n",
            "Epoch 13/50\n",
            "\u001b[1m323/323\u001b[0m \u001b[32m━━━━━━━━━━━━━━━━━━━━\u001b[0m\u001b[37m\u001b[0m \u001b[1m5s\u001b[0m 10ms/step - accuracy: 0.8987 - loss: 0.2843 - val_accuracy: 0.7130 - val_loss: 0.9834\n",
            "Epoch 14/50\n",
            "\u001b[1m323/323\u001b[0m \u001b[32m━━━━━━━━━━━━━━━━━━━━\u001b[0m\u001b[37m\u001b[0m \u001b[1m5s\u001b[0m 10ms/step - accuracy: 0.9000 - loss: 0.2842 - val_accuracy: 0.7110 - val_loss: 1.0608\n",
            "Epoch 15/50\n",
            "\u001b[1m323/323\u001b[0m \u001b[32m━━━━━━━━━━━━━━━━━━━━\u001b[0m\u001b[37m\u001b[0m \u001b[1m7s\u001b[0m 15ms/step - accuracy: 0.9006 - loss: 0.2817 - val_accuracy: 0.7099 - val_loss: 1.0126\n",
            "Epoch 16/50\n",
            "\u001b[1m323/323\u001b[0m \u001b[32m━━━━━━━━━━━━━━━━━━━━\u001b[0m\u001b[37m\u001b[0m \u001b[1m4s\u001b[0m 10ms/step - accuracy: 0.8997 - loss: 0.2863 - val_accuracy: 0.7093 - val_loss: 0.9824\n",
            "Epoch 17/50\n",
            "\u001b[1m323/323\u001b[0m \u001b[32m━━━━━━━━━━━━━━━━━━━━\u001b[0m\u001b[37m\u001b[0m \u001b[1m5s\u001b[0m 9ms/step - accuracy: 0.9007 - loss: 0.2842 - val_accuracy: 0.7102 - val_loss: 1.0273\n",
            "Epoch 18/50\n",
            "\u001b[1m323/323\u001b[0m \u001b[32m━━━━━━━━━━━━━━━━━━━━\u001b[0m\u001b[37m\u001b[0m \u001b[1m7s\u001b[0m 14ms/step - accuracy: 0.9043 - loss: 0.2810 - val_accuracy: 0.7072 - val_loss: 1.0561\n",
            "Epoch 19/50\n",
            "\u001b[1m323/323\u001b[0m \u001b[32m━━━━━━━━━━━━━━━━━━━━\u001b[0m\u001b[37m\u001b[0m \u001b[1m3s\u001b[0m 10ms/step - accuracy: 0.9017 - loss: 0.2818 - val_accuracy: 0.7080 - val_loss: 1.0072\n",
            "Epoch 20/50\n",
            "\u001b[1m323/323\u001b[0m \u001b[32m━━━━━━━━━━━━━━━━━━━━\u001b[0m\u001b[37m\u001b[0m \u001b[1m5s\u001b[0m 9ms/step - accuracy: 0.9013 - loss: 0.2784 - val_accuracy: 0.7074 - val_loss: 1.0209\n",
            "Epoch 21/50\n",
            "\u001b[1m323/323\u001b[0m \u001b[32m━━━━━━━━━━━━━━━━━━━━\u001b[0m\u001b[37m\u001b[0m \u001b[1m6s\u001b[0m 13ms/step - accuracy: 0.9034 - loss: 0.2779 - val_accuracy: 0.7034 - val_loss: 0.9747\n",
            "Epoch 22/50\n",
            "\u001b[1m323/323\u001b[0m \u001b[32m━━━━━━━━━━━━━━━━━━━━\u001b[0m\u001b[37m\u001b[0m \u001b[1m4s\u001b[0m 11ms/step - accuracy: 0.8990 - loss: 0.2837 - val_accuracy: 0.7075 - val_loss: 1.0324\n",
            "Epoch 23/50\n",
            "\u001b[1m323/323\u001b[0m \u001b[32m━━━━━━━━━━━━━━━━━━━━\u001b[0m\u001b[37m\u001b[0m \u001b[1m5s\u001b[0m 10ms/step - accuracy: 0.9043 - loss: 0.2765 - val_accuracy: 0.7105 - val_loss: 1.0968\n",
            "Epoch 24/50\n",
            "\u001b[1m323/323\u001b[0m \u001b[32m━━━━━━━━━━━━━━━━━━━━\u001b[0m\u001b[37m\u001b[0m \u001b[1m3s\u001b[0m 9ms/step - accuracy: 0.9063 - loss: 0.2749 - val_accuracy: 0.7084 - val_loss: 1.1126\n",
            "Epoch 25/50\n",
            "\u001b[1m323/323\u001b[0m \u001b[32m━━━━━━━━━━━━━━━━━━━━\u001b[0m\u001b[37m\u001b[0m \u001b[1m6s\u001b[0m 12ms/step - accuracy: 0.9024 - loss: 0.2764 - val_accuracy: 0.7076 - val_loss: 1.1536\n",
            "Epoch 26/50\n",
            "\u001b[1m323/323\u001b[0m \u001b[32m━━━━━━━━━━━━━━━━━━━━\u001b[0m\u001b[37m\u001b[0m \u001b[1m3s\u001b[0m 10ms/step - accuracy: 0.9041 - loss: 0.2770 - val_accuracy: 0.7077 - val_loss: 1.0701\n",
            "Epoch 27/50\n",
            "\u001b[1m323/323\u001b[0m \u001b[32m━━━━━━━━━━━━━━━━━━━━\u001b[0m\u001b[37m\u001b[0m \u001b[1m5s\u001b[0m 10ms/step - accuracy: 0.9058 - loss: 0.2749 - val_accuracy: 0.7082 - val_loss: 1.1311\n",
            "Epoch 28/50\n",
            "\u001b[1m323/323\u001b[0m \u001b[32m━━━━━━━━━━━━━━━━━━━━\u001b[0m\u001b[37m\u001b[0m \u001b[1m4s\u001b[0m 14ms/step - accuracy: 0.9064 - loss: 0.2726 - val_accuracy: 0.7060 - val_loss: 1.1066\n",
            "Epoch 29/50\n",
            "\u001b[1m323/323\u001b[0m \u001b[32m━━━━━━━━━━━━━━━━━━━━\u001b[0m\u001b[37m\u001b[0m \u001b[1m4s\u001b[0m 12ms/step - accuracy: 0.9055 - loss: 0.2748 - val_accuracy: 0.7074 - val_loss: 1.1396\n",
            "Epoch 30/50\n",
            "\u001b[1m323/323\u001b[0m \u001b[32m━━━━━━━━━━━━━━━━━━━━\u001b[0m\u001b[37m\u001b[0m \u001b[1m3s\u001b[0m 9ms/step - accuracy: 0.9043 - loss: 0.2752 - val_accuracy: 0.7072 - val_loss: 1.1772\n",
            "Epoch 31/50\n",
            "\u001b[1m323/323\u001b[0m \u001b[32m━━━━━━━━━━━━━━━━━━━━\u001b[0m\u001b[37m\u001b[0m \u001b[1m5s\u001b[0m 10ms/step - accuracy: 0.9050 - loss: 0.2732 - val_accuracy: 0.7070 - val_loss: 1.2070\n",
            "Epoch 32/50\n",
            "\u001b[1m323/323\u001b[0m \u001b[32m━━━━━━━━━━━━━━━━━━━━\u001b[0m\u001b[37m\u001b[0m \u001b[1m6s\u001b[0m 11ms/step - accuracy: 0.9063 - loss: 0.2713 - val_accuracy: 0.7072 - val_loss: 1.1033\n",
            "Epoch 33/50\n",
            "\u001b[1m323/323\u001b[0m \u001b[32m━━━━━━━━━━━━━━━━━━━━\u001b[0m\u001b[37m\u001b[0m \u001b[1m4s\u001b[0m 9ms/step - accuracy: 0.9096 - loss: 0.2667 - val_accuracy: 0.7066 - val_loss: 1.1117\n",
            "Epoch 34/50\n",
            "\u001b[1m323/323\u001b[0m \u001b[32m━━━━━━━━━━━━━━━━━━━━\u001b[0m\u001b[37m\u001b[0m \u001b[1m3s\u001b[0m 9ms/step - accuracy: 0.9070 - loss: 0.2685 - val_accuracy: 0.7049 - val_loss: 1.1624\n",
            "Epoch 35/50\n",
            "\u001b[1m323/323\u001b[0m \u001b[32m━━━━━━━━━━━━━━━━━━━━\u001b[0m\u001b[37m\u001b[0m \u001b[1m6s\u001b[0m 12ms/step - accuracy: 0.9081 - loss: 0.2719 - val_accuracy: 0.7011 - val_loss: 1.0843\n",
            "Epoch 36/50\n",
            "\u001b[1m323/323\u001b[0m \u001b[32m━━━━━━━━━━━━━━━━━━━━\u001b[0m\u001b[37m\u001b[0m \u001b[1m4s\u001b[0m 9ms/step - accuracy: 0.9024 - loss: 0.2782 - val_accuracy: 0.7077 - val_loss: 1.2845\n",
            "Epoch 37/50\n",
            "\u001b[1m323/323\u001b[0m \u001b[32m━━━━━━━━━━━━━━━━━━━━\u001b[0m\u001b[37m\u001b[0m \u001b[1m3s\u001b[0m 9ms/step - accuracy: 0.9081 - loss: 0.2676 - val_accuracy: 0.7064 - val_loss: 1.2216\n",
            "Epoch 38/50\n",
            "\u001b[1m323/323\u001b[0m \u001b[32m━━━━━━━━━━━━━━━━━━━━\u001b[0m\u001b[37m\u001b[0m \u001b[1m4s\u001b[0m 12ms/step - accuracy: 0.9034 - loss: 0.2746 - val_accuracy: 0.7061 - val_loss: 1.3051\n",
            "Epoch 39/50\n",
            "\u001b[1m323/323\u001b[0m \u001b[32m━━━━━━━━━━━━━━━━━━━━\u001b[0m\u001b[37m\u001b[0m \u001b[1m5s\u001b[0m 14ms/step - accuracy: 0.9084 - loss: 0.2673 - val_accuracy: 0.7058 - val_loss: 1.1955\n",
            "Epoch 40/50\n",
            "\u001b[1m323/323\u001b[0m \u001b[32m━━━━━━━━━━━━━━━━━━━━\u001b[0m\u001b[37m\u001b[0m \u001b[1m3s\u001b[0m 10ms/step - accuracy: 0.9088 - loss: 0.2688 - val_accuracy: 0.7035 - val_loss: 1.1902\n",
            "Epoch 41/50\n",
            "\u001b[1m323/323\u001b[0m \u001b[32m━━━━━━━━━━━━━━━━━━━━\u001b[0m\u001b[37m\u001b[0m \u001b[1m5s\u001b[0m 9ms/step - accuracy: 0.9116 - loss: 0.2640 - val_accuracy: 0.7042 - val_loss: 1.3053\n",
            "Epoch 42/50\n",
            "\u001b[1m323/323\u001b[0m \u001b[32m━━━━━━━━━━━━━━━━━━━━\u001b[0m\u001b[37m\u001b[0m \u001b[1m6s\u001b[0m 14ms/step - accuracy: 0.9111 - loss: 0.2636 - val_accuracy: 0.7005 - val_loss: 1.1845\n",
            "Epoch 43/50\n",
            "\u001b[1m323/323\u001b[0m \u001b[32m━━━━━━━━━━━━━━━━━━━━\u001b[0m\u001b[37m\u001b[0m \u001b[1m3s\u001b[0m 9ms/step - accuracy: 0.9106 - loss: 0.2664 - val_accuracy: 0.7001 - val_loss: 1.2182\n",
            "Epoch 44/50\n",
            "\u001b[1m323/323\u001b[0m \u001b[32m━━━━━━━━━━━━━━━━━━━━\u001b[0m\u001b[37m\u001b[0m \u001b[1m3s\u001b[0m 10ms/step - accuracy: 0.9118 - loss: 0.2631 - val_accuracy: 0.7032 - val_loss: 1.2577\n",
            "Epoch 45/50\n",
            "\u001b[1m323/323\u001b[0m \u001b[32m━━━━━━━━━━━━━━━━━━━━\u001b[0m\u001b[37m\u001b[0m \u001b[1m6s\u001b[0m 14ms/step - accuracy: 0.9084 - loss: 0.2684 - val_accuracy: 0.7030 - val_loss: 1.2543\n",
            "Epoch 46/50\n",
            "\u001b[1m323/323\u001b[0m \u001b[32m━━━━━━━━━━━━━━━━━━━━\u001b[0m\u001b[37m\u001b[0m \u001b[1m4s\u001b[0m 10ms/step - accuracy: 0.9073 - loss: 0.2697 - val_accuracy: 0.7028 - val_loss: 1.3541\n",
            "Epoch 47/50\n",
            "\u001b[1m323/323\u001b[0m \u001b[32m━━━━━━━━━━━━━━━━━━━━\u001b[0m\u001b[37m\u001b[0m \u001b[1m3s\u001b[0m 9ms/step - accuracy: 0.9123 - loss: 0.2577 - val_accuracy: 0.7029 - val_loss: 1.2481\n",
            "Epoch 48/50\n",
            "\u001b[1m323/323\u001b[0m \u001b[32m━━━━━━━━━━━━━━━━━━━━\u001b[0m\u001b[37m\u001b[0m \u001b[1m6s\u001b[0m 13ms/step - accuracy: 0.9124 - loss: 0.2587 - val_accuracy: 0.7028 - val_loss: 1.2502\n",
            "Epoch 49/50\n",
            "\u001b[1m323/323\u001b[0m \u001b[32m━━━━━━━━━━━━━━━━━━━━\u001b[0m\u001b[37m\u001b[0m \u001b[1m4s\u001b[0m 13ms/step - accuracy: 0.9121 - loss: 0.2615 - val_accuracy: 0.7022 - val_loss: 1.3496\n",
            "Epoch 50/50\n",
            "\u001b[1m323/323\u001b[0m \u001b[32m━━━━━━━━━━━━━━━━━━━━\u001b[0m\u001b[37m\u001b[0m \u001b[1m4s\u001b[0m 9ms/step - accuracy: 0.9070 - loss: 0.2680 - val_accuracy: 0.7038 - val_loss: 1.2414\n"
          ]
        }
      ]
    },
    {
      "cell_type": "code",
      "source": [
        "from tensorflow.keras.models import Sequential\n",
        "from tensorflow.keras.layers import Embedding, Flatten, Dense\n",
        "\n",
        "model = Sequential([\n",
        "    Embedding(input_dim=len(word_index) + 1,\n",
        "              output_dim=embedding_dim,\n",
        "              weights=[embedding_matrix],\n",
        "              input_length=max_sequence_length,\n",
        "              trainable=True),\n",
        "    Flatten(),\n",
        "    Dense(10, activation='relu'),\n",
        "    Dense(1, activation='sigmoid')  # Output layer for binary classification\n",
        "])\n",
        "\n",
        "model.compile(optimizer='adam', loss='binary_crossentropy', metrics=['accuracy'])\n",
        "model.build(input_shape=(None, max_sequence_length))\n",
        "model.summary()"
      ],
      "metadata": {
        "colab": {
          "base_uri": "https://localhost:8080/"
        },
        "id": "wUfHdPjhcT9p",
        "outputId": "f78db7e3-1ec3-4a98-fd78-edf8e05dcd68"
      },
      "execution_count": null,
      "outputs": [
        {
          "output_type": "stream",
          "name": "stdout",
          "text": [
            "Model: \"sequential\"\n",
            "_________________________________________________________________\n",
            " Layer (type)                Output Shape              Param #   \n",
            "=================================================================\n",
            " embedding_1 (Embedding)     (None, 100, 100)          12425300  \n",
            "                                                                 \n",
            " flatten (Flatten)           (None, 10000)             0         \n",
            "                                                                 \n",
            " dense (Dense)               (None, 10)                100010    \n",
            "                                                                 \n",
            " dense_1 (Dense)             (None, 1)                 11        \n",
            "                                                                 \n",
            "=================================================================\n",
            "Total params: 12525321 (47.78 MB)\n",
            "Trainable params: 12525321 (47.78 MB)\n",
            "Non-trainable params: 0 (0.00 Byte)\n",
            "_________________________________________________________________\n"
          ]
        }
      ]
    },
    {
      "cell_type": "code",
      "source": [
        "history = model.fit(X_train, y_train, epochs=50, batch_size=64, validation_data=(X_test, y_test))"
      ],
      "metadata": {
        "id": "Y64amFC4d2fK"
      },
      "execution_count": null,
      "outputs": []
    }
  ]
}