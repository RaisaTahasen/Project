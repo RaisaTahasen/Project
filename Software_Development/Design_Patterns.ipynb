{
  "nbformat": 4,
  "nbformat_minor": 0,
  "metadata": {
    "colab": {
      "provenance": [],
      "authorship_tag": "ABX9TyNGibPwxRwyW4qsxvJy8m9M",
      "include_colab_link": true
    },
    "kernelspec": {
      "name": "python3",
      "display_name": "Python 3"
    },
    "language_info": {
      "name": "python"
    }
  },
  "cells": [
    {
      "cell_type": "markdown",
      "metadata": {
        "id": "view-in-github",
        "colab_type": "text"
      },
      "source": [
        "<a href=\"https://colab.research.google.com/github/RaisaTahasen/Project/blob/main/Software_Development/Design_Patterns.ipynb\" target=\"_parent\"><img src=\"https://colab.research.google.com/assets/colab-badge.svg\" alt=\"Open In Colab\"/></a>"
      ]
    },
    {
      "cell_type": "markdown",
      "source": [
        "Answer 1 :\n",
        "  Singleton and Observer"
      ],
      "metadata": {
        "id": "ewkWj8ysjTH5"
      }
    },
    {
      "cell_type": "code",
      "source": [
        "class TwitterYouTube:\n",
        "    _instance = None\n",
        "\n",
        "    def __new__(cls):\n",
        "        if cls._instance is None:\n",
        "            print('Creating Channel')\n",
        "            cls._instance = super(TwitterYouTube, cls).__new__(cls)\n",
        "            cls._instance.channel = \"Twitter\"\n",
        "            cls._instance._fans = []\n",
        "            cls._instance._state = None\n",
        "        return cls._instance\n",
        "\n",
        "    def get_channel(self):\n",
        "        return self.channel\n",
        "\n",
        "    def attach(self, fan):\n",
        "        self._fans.append(fan)\n",
        "\n",
        "    def detach(self, fan):\n",
        "        self._fans.remove(fan)\n",
        "\n",
        "    def _notify(self):\n",
        "        for fan in self._fans:\n",
        "            fan.update(self)\n",
        "\n",
        "    def set_state(self, state):\n",
        "        self._state = state\n",
        "        self._notify()\n",
        "\n",
        "    def get_state(self):\n",
        "        return self._state\n",
        "\n",
        "\n",
        "class Fan:\n",
        "    def __init__(self):\n",
        "        self._channel = None\n",
        "\n",
        "    def update(self, channel):\n",
        "        if self._channel != None:\n",
        "          state = self._channel.get_state()\n",
        "          print(f\"Channel {self._channel.get_channel()} updated: {state}\")\n",
        "        else:\n",
        "          print('No channel found')\n",
        "\n",
        "    def add_channel(self, channel):\n",
        "        self._channel = channel\n",
        "        channel.attach(self)\n",
        "        print(f\"Added channel named {self._channel.get_channel()}\")\n",
        "\n",
        "    def remove_channel(self, channel):\n",
        "        self._channel = None\n",
        "        channel.detach(self)\n",
        "        print(f\"Removed channel\")\n",
        "\n",
        "# Example usage\n",
        "App1 = TwitterYouTube()\n",
        "App2 = TwitterYouTube()\n",
        "App3 = TwitterYouTube()\n",
        "print(App1 is App2 is App3)\n",
        "\n",
        "User1 = Fan()\n",
        "User2 = Fan()\n",
        "User3 = Fan()\n",
        "\n",
        "User1.add_channel(App1)\n",
        "User2.add_channel(App2)\n",
        "User3.add_channel(App3)\n",
        "\n",
        "App2.set_state(\"New Video 1\")\n",
        "\n",
        "# Updating fans\n",
        "User1.update(App1)\n",
        "User2.update(App2)\n",
        "User3.update(App3)\n",
        "\n",
        "User3.remove_channel(App1)\n",
        "User1.update(App1)\n",
        "User2.update(App2)\n",
        "User3.update(App3)"
      ],
      "metadata": {
        "colab": {
          "base_uri": "https://localhost:8080/"
        },
        "id": "yrFV-3J4Yj6_",
        "outputId": "7179190e-d5dd-4f39-ed42-b05e8e94c288"
      },
      "execution_count": null,
      "outputs": [
        {
          "output_type": "stream",
          "name": "stdout",
          "text": [
            "Creating Channel\n",
            "True\n",
            "Added channel named Twitter\n",
            "Added channel named Twitter\n",
            "Added channel named Twitter\n",
            "Channel Twitter updated: New Video 1\n",
            "Channel Twitter updated: New Video 1\n",
            "Channel Twitter updated: New Video 1\n",
            "Channel Twitter updated: New Video 1\n",
            "Channel Twitter updated: New Video 1\n",
            "Channel Twitter updated: New Video 1\n",
            "Removed channel\n",
            "Channel Twitter updated: New Video 1\n",
            "Channel Twitter updated: New Video 1\n",
            "No channel found\n"
          ]
        }
      ]
    },
    {
      "cell_type": "markdown",
      "source": [
        "Answer 2"
      ],
      "metadata": {
        "id": "VYOWqV0Chhs4"
      }
    },
    {
      "cell_type": "code",
      "source": [],
      "metadata": {
        "id": "ERPCNKQ2x0Kl"
      },
      "execution_count": null,
      "outputs": []
    },
    {
      "cell_type": "code",
      "source": [
        "class TwitterYouTube:\n",
        "    _instance = None\n",
        "\n",
        "    def __new__(cls):\n",
        "        if cls._instance is None:\n",
        "            print('Creating Channel')\n",
        "            cls._instance = super(TwitterYouTube, cls).__new__(cls)\n",
        "            cls._instance.channel = \"Twitter\"\n",
        "            cls._instance._fans = []\n",
        "            cls._instance._state = None\n",
        "        return cls._instance\n",
        "\n",
        "    def get_channel(self):\n",
        "        return self.channel\n",
        "\n",
        "    def attach(self, fan):\n",
        "        self._fans.append(fan)\n",
        "\n",
        "    def detach(self, fan):\n",
        "        self._fans.remove(fan)\n",
        "\n",
        "    def _notify(self):\n",
        "        for fan in self._fans:\n",
        "            fan.update(self)\n",
        "\n",
        "    def set_state(self, state):\n",
        "        self._state = state\n",
        "        self._notify()\n",
        "\n",
        "    def get_state(self):\n",
        "        return self._state\n",
        "\n",
        "\n",
        "class Fan:\n",
        "    def __init__(self):\n",
        "        self._channel = None\n",
        "\n",
        "    def update(self, channel):\n",
        "        if self._channel != None:\n",
        "          state = self._channel.get_state()\n",
        "          print(f\"Channel {self._channel.get_channel()} updated: {state}\")\n",
        "        else:\n",
        "          print('No channel found')\n",
        "\n",
        "    def add_channel(self, channel):\n",
        "        self._channel = channel\n",
        "        channel.attach(self)\n",
        "        print(f\"Added channel named {self._channel.get_channel()}\")\n",
        "\n",
        "    def remove_channel(self, channel):\n",
        "        self._channel = None\n",
        "        channel.detach(self)\n",
        "        print(f\"Removed channel\")\n",
        "\n",
        "# Example usage\n",
        "App1 = TwitterYouTube()\n",
        "App2 = TwitterYouTube()\n",
        "App3 = TwitterYouTube()\n",
        "print(App1 is App2 is App3)\n",
        "\n",
        "User1 = Fan()\n",
        "User2 = Fan()\n",
        "User3 = Fan()\n",
        "\n",
        "User1.add_channel(App1)\n",
        "User2.add_channel(App2)\n",
        "User3.add_channel(App3)\n",
        "\n",
        "App2.set_state(\"New Video 1\")\n",
        "\n",
        "# Updating fans\n",
        "User1.update(App1)\n",
        "User2.update(App2)\n",
        "User3.update(App3)\n",
        "\n",
        "User3.remove_channel(App1)\n",
        "User1.update(App1)\n",
        "User2.update(App2)\n",
        "User3.update(App3)"
      ],
      "metadata": {
        "colab": {
          "base_uri": "https://localhost:8080/"
        },
        "outputId": "7179190e-d5dd-4f39-ed42-b05e8e94c288",
        "id": "S817aCogx0jz"
      },
      "execution_count": null,
      "outputs": [
        {
          "output_type": "stream",
          "name": "stdout",
          "text": [
            "Creating Channel\n",
            "True\n",
            "Added channel named Twitter\n",
            "Added channel named Twitter\n",
            "Added channel named Twitter\n",
            "Channel Twitter updated: New Video 1\n",
            "Channel Twitter updated: New Video 1\n",
            "Channel Twitter updated: New Video 1\n",
            "Channel Twitter updated: New Video 1\n",
            "Channel Twitter updated: New Video 1\n",
            "Channel Twitter updated: New Video 1\n",
            "Removed channel\n",
            "Channel Twitter updated: New Video 1\n",
            "Channel Twitter updated: New Video 1\n",
            "No channel found\n"
          ]
        }
      ]
    },
    {
      "cell_type": "code",
      "source": [
        "from abc import ABC , abstractmethod\n",
        "class YouTube(ABC):\n",
        "    @abstractmethod\n",
        "    def Twitter(self):\n",
        "      pass\n",
        "\n",
        "\n",
        "\n",
        "class Channel(YouTube):\n",
        "\n",
        "    def __init__(self,name):\n",
        "        self._fans = []\n",
        "        self._state = None\n",
        "        self._name = name\n",
        "        if self._name == \"Twitter\":\n",
        "            self.Twitter()\n",
        "\n",
        "    def Twitter(self):\n",
        "       print(\"Post videos like Linus-Tech_Tips\")\n",
        "\n",
        "    def get_channel(self):\n",
        "        return self._name\n",
        "\n",
        "    def attach(self, fan):\n",
        "        self._fans.append(fan)\n",
        "\n",
        "    def detach(self, fan):\n",
        "        self._fans.remove(fan)\n",
        "\n",
        "    def _notify(self):\n",
        "        for fan in self._fans:\n",
        "            fan.update(self)\n",
        "\n",
        "    def set_state(self, state):\n",
        "        self._state = state\n",
        "        self._notify()\n",
        "\n",
        "    def get_state(self):\n",
        "        return self._state\n",
        "\n",
        "\n",
        "class Fan:\n",
        "    def __init__(self):\n",
        "        self._channel = None\n",
        "\n",
        "    def update(self, channel):\n",
        "        if self._channel != None:\n",
        "          state = self._channel.get_state()\n",
        "          print(f\"Channel {self._channel.get_channel()} updated: {state}\")\n",
        "        else:\n",
        "          print('No channel found')\n",
        "\n",
        "    def add_channel(self, channel):\n",
        "        self._channel = channel\n",
        "        channel.attach(self)\n",
        "        print(f\"Added channel named {self._channel.get_channel()}\")\n",
        "\n",
        "    def remove_channel(self, channel):\n",
        "        self._channel = None\n",
        "        channel.detach(self)\n",
        "        print(f\"Removed channel\")\n",
        "\n",
        "\n",
        "\n",
        "\n",
        "\n",
        "\n",
        "ch1 = Channel(\"First cahnnel\")\n",
        "ch2 = Channel(\"Second cahnnel\")\n",
        "\n",
        "\n",
        "User1 = Fan()\n",
        "User2 = Fan()\n",
        "\n",
        "User1.add_channel(ch1)\n",
        "User2.add_channel(ch2)\n",
        "\n",
        "\n",
        "ch1.set_state(\"New Video 1\")\n",
        "ch2.set_state(\"Video Released!!!\")\n",
        "\n",
        "\n",
        "\n",
        "User1.remove_channel(ch1)\n",
        "User1.update(ch1)\n"
      ],
      "metadata": {
        "colab": {
          "base_uri": "https://localhost:8080/"
        },
        "outputId": "d2811da9-248d-4dce-84aa-e91ecbacab0b",
        "id": "E6_K3XHWiPnU"
      },
      "execution_count": null,
      "outputs": [
        {
          "output_type": "stream",
          "name": "stdout",
          "text": [
            "Added channel named First cahnnel\n",
            "Added channel named Second cahnnel\n",
            "Channel First cahnnel updated: New Video 1\n",
            "Channel Second cahnnel updated: Video Released!!!\n",
            "Removed channel\n",
            "No channel found\n"
          ]
        }
      ]
    },
    {
      "cell_type": "markdown",
      "source": [
        "Answer 3"
      ],
      "metadata": {
        "id": "-R5HNlnbnlnP"
      }
    },
    {
      "cell_type": "code",
      "source": [],
      "metadata": {
        "id": "D3SXjUDYpG-g"
      },
      "execution_count": null,
      "outputs": []
    },
    {
      "cell_type": "code",
      "source": [
        "class WECHAT:\n",
        "  _instance = None\n",
        "\n",
        "  def __new__(cls):\n",
        "    if cls._instance is None:\n",
        "      cls._instance = super(WECHAT, cls).__new__(cls)\n",
        "\n",
        "    return cls._instance\n",
        "\n",
        "  def streamingVideo(self):\n",
        "    pass\n",
        "\n",
        "  def sendMessage(self):\n",
        "    pass\n",
        "\n",
        "  def useNewsFeed(self):\n",
        "    pass\n",
        "\n",
        "  def createFriendsGroup(self):\n",
        "    pass\n",
        "\n",
        "class Facebook:\n",
        "  def newsfeed(self):\n",
        "    print(\"NewsFeed is displayed.\")\n",
        "\n",
        "  def groups(self):\n",
        "    print(\"Friends Group is created.\")\n",
        "\n",
        "class Messenger:\n",
        "  def chatting(self):\n",
        "    print(\"Chat created.\")\n",
        "\n",
        "\n",
        "class Twitch:\n",
        "\n",
        "  def videostreaming(self):\n",
        "    print(\"Your Video is streaming.\")\n",
        "\n",
        "class getInstance(Messenger, Facebook, Twitch, WECHAT):\n",
        "\n",
        "  def streamingVideo(self):\n",
        "    super().videostreaming()\n",
        "  def sendMessage(self):\n",
        "\n",
        "    super().chatting()\n",
        "\n",
        "  def useNewsFeed(self):\n",
        "    super().newsfeed()\n",
        "\n",
        "  def createFriendsGroup(self):\n",
        "    super().groups()\n",
        "\n",
        "\n",
        "\n",
        "\n",
        "\n",
        "weChat = getInstance();\n",
        "weChat.streamingVideo();\n",
        "weChat2=getInstance();\n",
        "weChat.sendMessage( );\n",
        "weChat.createFriendsGroup();\n",
        "weChat2.useNewsFeed();\n",
        "print(weChat);\n",
        "print(weChat2);"
      ],
      "metadata": {
        "id": "FkPfdvJuJLyT",
        "colab": {
          "base_uri": "https://localhost:8080/"
        },
        "outputId": "91264579-bbeb-4a41-e9a3-4354be9a8ba5"
      },
      "execution_count": null,
      "outputs": [
        {
          "output_type": "stream",
          "name": "stdout",
          "text": [
            "Video is streaming.\n",
            "Chat created.\n",
            "Friends Group is created.\n",
            "NewsFeed is displayed.\n",
            "<__main__.getInstance object at 0x79e7ffa65e70>\n",
            "<__main__.getInstance object at 0x79e7ffa65e70>\n"
          ]
        }
      ]
    },
    {
      "cell_type": "markdown",
      "source": [
        "Answer 4"
      ],
      "metadata": {
        "id": "TneXpLaesich"
      }
    },
    {
      "cell_type": "code",
      "source": [
        "class ConfigurationSettings:\n",
        "    _instance = None\n",
        "\n",
        "    def __new__(cls):\n",
        "        if cls._instance is None:\n",
        "            print(\"Creating Configuration instance.\")\n",
        "            cls._instance = super( ConfigurationSettings, cls).__new__(cls)\n",
        "            cls._instance._setting = None\n",
        "        return cls._instance\n",
        "\n",
        "    def get_setting(self):\n",
        "        return self._setting\n",
        "\n",
        "    def set_setting(self, value):\n",
        "        self._setting = value\n",
        "\n",
        "    def display_settings(self):\n",
        "        print(f\"Current Configuration Settings: {self._setting}\")\n",
        "\n",
        "\n",
        "\n",
        "obj1 = ConfigurationSettings()\n",
        "obj2 = ConfigurationSettings()\n",
        "obj3 = ConfigurationSettings()\n",
        "print (obj1 is obj2 is obj2)\n",
        "\n",
        "obj1.set_setting(345)\n",
        "print(obj2.get_setting())\n",
        "obj3.display_settings()"
      ],
      "metadata": {
        "colab": {
          "base_uri": "https://localhost:8080/"
        },
        "id": "ovbizmKduVk9",
        "outputId": "06776c62-3b3c-4e7c-fa53-378bf9e57da9"
      },
      "execution_count": null,
      "outputs": [
        {
          "output_type": "stream",
          "name": "stdout",
          "text": [
            "Creating Configuration instance.\n",
            "True\n",
            "345\n",
            "Current Configuration Settings: 345\n"
          ]
        }
      ]
    }
  ]
}